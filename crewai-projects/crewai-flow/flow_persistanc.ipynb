{
 "cells": [
  {
   "cell_type": "markdown",
   "id": "3c16cfe3",
   "metadata": {},
   "source": [
    "### FLow Persistance in CrewAI Flow"
   ]
  },
  {
   "cell_type": "markdown",
   "id": "7dc214eb",
   "metadata": {
    "vscode": {
     "languageId": "plaintext"
    }
   },
   "source": [
    "#### The @persist decorator enables automatic state persistence in CrewAI Flows, allowing you to maintain flow state across restarts or different workflow executions.`\n"
   ]
  },
  {
   "cell_type": "code",
   "execution_count": 1,
   "id": "14ada766",
   "metadata": {},
   "outputs": [],
   "source": [
    "import nest_asyncio\n",
    "nest_asyncio.apply()"
   ]
  },
  {
   "cell_type": "markdown",
   "id": "d11fbb3f",
   "metadata": {},
   "source": [
    "#### 1.Class Level Persistance"
   ]
  },
  {
   "cell_type": "code",
   "execution_count": 2,
   "id": "b78f6037",
   "metadata": {},
   "outputs": [],
   "source": [
    "from crewai.flow.flow import Flow, listen, start\n",
    "from crewai.flow.persistence import persist\n",
    "from dotenv import load_dotenv\n",
    "from pydantic import BaseModel\n",
    "\n",
    "class CounterState(BaseModel):\n",
    "    counter: int = 0\n",
    "\n",
    "@persist() # Using SQLiteFlowPersistence by default\n",
    "class MyFlow(Flow[CounterState]):\n",
    "    @start()\n",
    "    def initialize_flow(self):\n",
    "        # This method will automatically have its state persisted\n",
    "        self.state.counter = 1\n",
    "        print(\"Initialized flow. State ID:\", self.state.id)\n",
    "\n",
    "    @listen(initialize_flow)\n",
    "    def next_step(self):\n",
    "        # The state (including self.state.id) is automatically reloaded\n",
    "        self.state.counter += 1\n",
    "        print(\"Flow state is persisted. Counter:\", self.state.counter)"
   ]
  },
  {
   "cell_type": "code",
   "execution_count": 4,
   "id": "336ad1b6",
   "metadata": {},
   "outputs": [
    {
     "data": {
      "text/html": [
       "<pre style=\"white-space:pre;overflow-x:auto;line-height:normal;font-family:Menlo,'DejaVu Sans Mono',consolas,'Courier New',monospace\"><span style=\"color: #000080; text-decoration-color: #000080\">╭──────────────────────────────────────────────── Flow Execution ─────────────────────────────────────────────────╮</span>\n",
       "<span style=\"color: #000080; text-decoration-color: #000080\">│</span>                                                                                                                 <span style=\"color: #000080; text-decoration-color: #000080\">│</span>\n",
       "<span style=\"color: #000080; text-decoration-color: #000080\">│</span>  <span style=\"color: #000080; text-decoration-color: #000080; font-weight: bold\">Starting Flow Execution</span>                                                                                        <span style=\"color: #000080; text-decoration-color: #000080\">│</span>\n",
       "<span style=\"color: #000080; text-decoration-color: #000080\">│</span>  <span style=\"color: #c0c0c0; text-decoration-color: #c0c0c0\">Name: </span><span style=\"color: #000080; text-decoration-color: #000080\">MyFlow</span>                                                                                                   <span style=\"color: #000080; text-decoration-color: #000080\">│</span>\n",
       "<span style=\"color: #000080; text-decoration-color: #000080\">│</span>  <span style=\"color: #c0c0c0; text-decoration-color: #c0c0c0\">ID: </span><span style=\"color: #000080; text-decoration-color: #000080\">ba96cb87-1f0d-45c7-90d6-e7fedd1e0284</span>                                                                       <span style=\"color: #000080; text-decoration-color: #000080\">│</span>\n",
       "<span style=\"color: #000080; text-decoration-color: #000080\">│</span>  <span style=\"color: #c0c0c0; text-decoration-color: #c0c0c0\">Tool Args: </span>                                                                                                    <span style=\"color: #000080; text-decoration-color: #000080\">│</span>\n",
       "<span style=\"color: #000080; text-decoration-color: #000080\">│</span>                                                                                                                 <span style=\"color: #000080; text-decoration-color: #000080\">│</span>\n",
       "<span style=\"color: #000080; text-decoration-color: #000080\">│</span>                                                                                                                 <span style=\"color: #000080; text-decoration-color: #000080\">│</span>\n",
       "<span style=\"color: #000080; text-decoration-color: #000080\">╰─────────────────────────────────────────────────────────────────────────────────────────────────────────────────╯</span>\n",
       "</pre>\n"
      ],
      "text/plain": [
       "\u001b[34m╭─\u001b[0m\u001b[34m───────────────────────────────────────────────\u001b[0m\u001b[34m Flow Execution \u001b[0m\u001b[34m────────────────────────────────────────────────\u001b[0m\u001b[34m─╮\u001b[0m\n",
       "\u001b[34m│\u001b[0m                                                                                                                 \u001b[34m│\u001b[0m\n",
       "\u001b[34m│\u001b[0m  \u001b[1;34mStarting Flow Execution\u001b[0m                                                                                        \u001b[34m│\u001b[0m\n",
       "\u001b[34m│\u001b[0m  \u001b[37mName: \u001b[0m\u001b[34mMyFlow\u001b[0m                                                                                                   \u001b[34m│\u001b[0m\n",
       "\u001b[34m│\u001b[0m  \u001b[37mID: \u001b[0m\u001b[34mba96cb87-1f0d-45c7-90d6-e7fedd1e0284\u001b[0m                                                                       \u001b[34m│\u001b[0m\n",
       "\u001b[34m│\u001b[0m  \u001b[37mTool Args: \u001b[0m                                                                                                    \u001b[34m│\u001b[0m\n",
       "\u001b[34m│\u001b[0m                                                                                                                 \u001b[34m│\u001b[0m\n",
       "\u001b[34m│\u001b[0m                                                                                                                 \u001b[34m│\u001b[0m\n",
       "\u001b[34m╰─────────────────────────────────────────────────────────────────────────────────────────────────────────────────╯\u001b[0m\n"
      ]
     },
     "metadata": {},
     "output_type": "display_data"
    },
    {
     "data": {
      "text/html": [
       "<pre style=\"white-space:pre;overflow-x:auto;line-height:normal;font-family:Menlo,'DejaVu Sans Mono',consolas,'Courier New',monospace\">\n",
       "</pre>\n"
      ],
      "text/plain": [
       "\n"
      ]
     },
     "metadata": {},
     "output_type": "display_data"
    },
    {
     "data": {
      "text/html": [
       "<pre style=\"white-space:pre;overflow-x:auto;line-height:normal;font-family:Menlo,'DejaVu Sans Mono',consolas,'Courier New',monospace\"><span style=\"color: #800080; text-decoration-color: #800080; font-weight: bold\"> Flow started with ID: ba96cb87-1f0d-45c7-90d6-e7fedd1e0284</span>\n",
       "</pre>\n"
      ],
      "text/plain": [
       "\u001b[1;35m Flow started with ID: ba96cb87-1f0d-45c7-90d6-e7fedd1e0284\u001b[0m\n"
      ]
     },
     "metadata": {},
     "output_type": "display_data"
    },
    {
     "data": {
      "text/html": [
       "<pre style=\"white-space:pre;overflow-x:auto;line-height:normal;font-family:Menlo,'DejaVu Sans Mono',consolas,'Courier New',monospace\">d:\\Learn\\AI-Agents-Dev\\crewai-projects\\.venv\\Lib\\site-packages\\rich\\live.py:231: UserWarning: install \"ipywidgets\" \n",
       "for Jupyter support\n",
       "  warnings.warn('install \"ipywidgets\" for Jupyter support')\n",
       "</pre>\n"
      ],
      "text/plain": [
       "d:\\Learn\\AI-Agents-Dev\\crewai-projects\\.venv\\Lib\\site-packages\\rich\\live.py:231: UserWarning: install \"ipywidgets\" \n",
       "for Jupyter support\n",
       "  warnings.warn('install \"ipywidgets\" for Jupyter support')\n"
      ]
     },
     "metadata": {},
     "output_type": "display_data"
    },
    {
     "data": {
      "text/html": [
       "<pre style=\"white-space:pre;overflow-x:auto;line-height:normal;font-family:Menlo,'DejaVu Sans Mono',consolas,'Courier New',monospace\">Initialized flow. State ID: ba96cb87-1f0d-45c7-90d6-e7fedd1e0284\n",
       "</pre>\n"
      ],
      "text/plain": [
       "Initialized flow. State ID: ba96cb87-1f0d-45c7-90d6-e7fedd1e0284\n"
      ]
     },
     "metadata": {},
     "output_type": "display_data"
    },
    {
     "data": {
      "text/html": [
       "<pre style=\"white-space:pre;overflow-x:auto;line-height:normal;font-family:Menlo,'DejaVu Sans Mono',consolas,'Courier New',monospace\">Flow state is persisted. Counter: 2\n",
       "</pre>\n"
      ],
      "text/plain": [
       "Flow state is persisted. Counter: 2\n"
      ]
     },
     "metadata": {},
     "output_type": "display_data"
    },
    {
     "data": {
      "text/html": [
       "<pre style=\"white-space:pre;overflow-x:auto;line-height:normal;font-family:Menlo,'DejaVu Sans Mono',consolas,'Courier New',monospace\"></pre>\n"
      ],
      "text/plain": []
     },
     "metadata": {},
     "output_type": "display_data"
    },
    {
     "data": {
      "text/html": [
       "<pre style=\"white-space:pre;overflow-x:auto;line-height:normal;font-family:Menlo,'DejaVu Sans Mono',consolas,'Courier New',monospace\"><span style=\"color: #008000; text-decoration-color: #008000\">╭──────────────────────────────────────────────── Flow Completion ────────────────────────────────────────────────╮</span>\n",
       "<span style=\"color: #008000; text-decoration-color: #008000\">│</span>                                                                                                                 <span style=\"color: #008000; text-decoration-color: #008000\">│</span>\n",
       "<span style=\"color: #008000; text-decoration-color: #008000\">│</span>  <span style=\"color: #008000; text-decoration-color: #008000; font-weight: bold\">Flow Execution Completed</span>                                                                                       <span style=\"color: #008000; text-decoration-color: #008000\">│</span>\n",
       "<span style=\"color: #008000; text-decoration-color: #008000\">│</span>  <span style=\"color: #c0c0c0; text-decoration-color: #c0c0c0\">Name: </span><span style=\"color: #008000; text-decoration-color: #008000\">MyFlow</span>                                                                                                   <span style=\"color: #008000; text-decoration-color: #008000\">│</span>\n",
       "<span style=\"color: #008000; text-decoration-color: #008000\">│</span>  <span style=\"color: #c0c0c0; text-decoration-color: #c0c0c0\">ID: </span><span style=\"color: #008000; text-decoration-color: #008000\">ba96cb87-1f0d-45c7-90d6-e7fedd1e0284</span>                                                                       <span style=\"color: #008000; text-decoration-color: #008000\">│</span>\n",
       "<span style=\"color: #008000; text-decoration-color: #008000\">│</span>  <span style=\"color: #c0c0c0; text-decoration-color: #c0c0c0\">Tool Args: </span>                                                                                                    <span style=\"color: #008000; text-decoration-color: #008000\">│</span>\n",
       "<span style=\"color: #008000; text-decoration-color: #008000\">│</span>                                                                                                                 <span style=\"color: #008000; text-decoration-color: #008000\">│</span>\n",
       "<span style=\"color: #008000; text-decoration-color: #008000\">│</span>                                                                                                                 <span style=\"color: #008000; text-decoration-color: #008000\">│</span>\n",
       "<span style=\"color: #008000; text-decoration-color: #008000\">╰─────────────────────────────────────────────────────────────────────────────────────────────────────────────────╯</span>\n",
       "</pre>\n"
      ],
      "text/plain": [
       "\u001b[32m╭─\u001b[0m\u001b[32m───────────────────────────────────────────────\u001b[0m\u001b[32m Flow Completion \u001b[0m\u001b[32m───────────────────────────────────────────────\u001b[0m\u001b[32m─╮\u001b[0m\n",
       "\u001b[32m│\u001b[0m                                                                                                                 \u001b[32m│\u001b[0m\n",
       "\u001b[32m│\u001b[0m  \u001b[1;32mFlow Execution Completed\u001b[0m                                                                                       \u001b[32m│\u001b[0m\n",
       "\u001b[32m│\u001b[0m  \u001b[37mName: \u001b[0m\u001b[32mMyFlow\u001b[0m                                                                                                   \u001b[32m│\u001b[0m\n",
       "\u001b[32m│\u001b[0m  \u001b[37mID: \u001b[0m\u001b[32mba96cb87-1f0d-45c7-90d6-e7fedd1e0284\u001b[0m                                                                       \u001b[32m│\u001b[0m\n",
       "\u001b[32m│\u001b[0m  \u001b[37mTool Args: \u001b[0m                                                                                                    \u001b[32m│\u001b[0m\n",
       "\u001b[32m│\u001b[0m                                                                                                                 \u001b[32m│\u001b[0m\n",
       "\u001b[32m│\u001b[0m                                                                                                                 \u001b[32m│\u001b[0m\n",
       "\u001b[32m╰─────────────────────────────────────────────────────────────────────────────────────────────────────────────────╯\u001b[0m\n"
      ]
     },
     "metadata": {},
     "output_type": "display_data"
    },
    {
     "data": {
      "text/html": [
       "<pre style=\"white-space:pre;overflow-x:auto;line-height:normal;font-family:Menlo,'DejaVu Sans Mono',consolas,'Courier New',monospace\">\n",
       "</pre>\n"
      ],
      "text/plain": [
       "\n"
      ]
     },
     "metadata": {},
     "output_type": "display_data"
    },
    {
     "name": "stdout",
     "output_type": "stream",
     "text": [
      "Flow completed with final state: None\n"
     ]
    }
   ],
   "source": [
    "flow = MyFlow()\n",
    "result = flow.kickoff()\n",
    "print(f\"Flow completed with final state: {result}\")"
   ]
  },
  {
   "cell_type": "code",
   "execution_count": 14,
   "id": "6beb9514",
   "metadata": {},
   "outputs": [
    {
     "name": "stdout",
     "output_type": "stream",
     "text": [
      "\u001b[2K\u001b[1A\u001b[2K\u001b[1A\u001b[2K\u001b[1A\u001b[2K\u001b[1;34m🌊 Flow: \u001b[0m\u001b[34mMyFlow\u001b[0m\n",
      "\u001b[37mID: \u001b[0m\u001b[34m32bd1c22-910a-4832-9e2d-e40a8a9ca6cf\u001b[0m\n",
      "├── \u001b[31m❌ Flow Step Failed\u001b[0m\n",
      "└── \u001b[1;31m❌ Failed:\u001b[0m\u001b[1;31m initialize_flow\u001b[0m\n",
      "\u001b[?25h\u001b[34m┌─\u001b[0m\u001b[34m─────────────────────────────\u001b[0m\u001b[34m Flow Execution \u001b[0m\u001b[34m──────────────────────────────\u001b[0m\u001b[34m─┐\u001b[0m\n",
      "\u001b[34m│\u001b[0m                                                                             \u001b[34m│\u001b[0m\n",
      "\u001b[34m│\u001b[0m  \u001b[1;34mStarting Flow Execution\u001b[0m                                                    \u001b[34m│\u001b[0m\n",
      "\u001b[34m│\u001b[0m  \u001b[37mName: \u001b[0m\u001b[34mPersistentCounterFlow\u001b[0m                                                \u001b[34m│\u001b[0m\n",
      "\u001b[34m│\u001b[0m  \u001b[37mID: \u001b[0m\u001b[34m3e07bb5f-6e12-4cb7-a21c-dff12bd73f78\u001b[0m                                   \u001b[34m│\u001b[0m\n",
      "\u001b[34m│\u001b[0m  \u001b[37mTool Args: \u001b[0m                                                                \u001b[34m│\u001b[0m\n",
      "\u001b[34m│\u001b[0m                                                                             \u001b[34m│\u001b[0m\n",
      "\u001b[34m│\u001b[0m                                                                             \u001b[34m│\u001b[0m\n",
      "\u001b[34m└─────────────────────────────────────────────────────────────────────────────┘\u001b[0m\n",
      "\n",
      "\u001b[?25l\u001b[1;35m Flow started with ID: 3e07bb5f-6e12-4cb7-a21c-dff12bd73f78\u001b[0m\n",
      "\u001b[1;34m🌊 Flow: \u001b[0m\u001b[34mPersistentCounterFlow\u001b[0m\n",
      "\u001b[37mID: \u001b[0m\u001b[34m3e07bb5f-6e12-4cb7-a21c-dff12bd73f78\u001b[0m\n",
      "\u001b[2K\u001b[1A\u001b[2K\u001b[1A\u001b[2K\u001b[1;34m🌊 Flow: \u001b[0m\u001b[34mPersistentCounterFlow\u001b[0m\n",
      "\u001b[37mID: \u001b[0m\u001b[34m3e07bb5f-6e12-4cb7-a21c-dff12bd73f78\u001b[0m\n",
      "├── \u001b[33m🧠 Starting Flow...\u001b[0m\n",
      "\u001b[2K\u001b[1A\u001b[2K\u001b[1A\u001b[2K\u001b[1A\u001b[2KIncremented to 1[0m\n",
      "\u001b[1;34m🌊 Flow: \u001b[0m\u001b[34mPersistentCounterFlow\u001b[0m\n",
      "\u001b[37mID: \u001b[0m\u001b[34m3e07bb5f-6e12-4cb7-a21c-dff12bd73f78\u001b[0m\n",
      "├── \u001b[33m🧠 Starting Flow...\u001b[0m\n",
      "\u001b[2K\u001b[1A\u001b[2K\u001b[1A\u001b[2K\u001b[1A\u001b[2K\u001b[1;34m🌊 Flow: \u001b[0m\u001b[34mPersistentCounterFlow\u001b[0m\n",
      "\u001b[37mID: \u001b[0m\u001b[34m3e07bb5f-6e12-4cb7-a21c-dff12bd73f78\u001b[0m\n",
      "├── \u001b[37mFlow Method Step\u001b[0m\n",
      "\u001b[2K\u001b[1A\u001b[2K\u001b[1A\u001b[2K\u001b[1A\u001b[2K\u001b[1;34m🌊 Flow: \u001b[0m\u001b[34mPersistentCounterFlow\u001b[0m\n",
      "\u001b[37mID: \u001b[0m\u001b[34m3e07bb5f-6e12-4cb7-a21c-dff12bd73f78\u001b[0m\n",
      "├── \u001b[37mFlow Method Step\u001b[0m\n",
      "├── \u001b[1;32m✅ Completed:\u001b[0m\u001b[1;32m increment\u001b[0m\n",
      "\u001b[2K\u001b[1A\u001b[2K\u001b[1A\u001b[2K\u001b[1A\u001b[2K\u001b[1A\u001b[2KDoubled to 2\n",
      "\u001b[1;34m🌊 Flow: \u001b[0m\u001b[34mPersistentCounterFlow\u001b[0m\n",
      "\u001b[37mID: \u001b[0m\u001b[34m3e07bb5f-6e12-4cb7-a21c-dff12bd73f78\u001b[0m\n",
      "├── \u001b[37mFlow Method Step\u001b[0m\n",
      "├── \u001b[1;32m✅ Completed:\u001b[0m\u001b[1;32m increment\u001b[0m\n",
      "\u001b[2K\u001b[1A\u001b[2K\u001b[1A\u001b[2K\u001b[1A\u001b[2K\u001b[1A\u001b[2K\u001b[1;34m🌊 Flow: \u001b[0m\u001b[34mPersistentCounterFlow\u001b[0m\n",
      "\u001b[37mID: \u001b[0m\u001b[34m3e07bb5f-6e12-4cb7-a21c-dff12bd73f78\u001b[0m\n",
      "├── \u001b[37mFlow Method Step\u001b[0m\n",
      "├── \u001b[1;32m✅ Completed:\u001b[0m\u001b[1;32m increment\u001b[0m\n",
      "\u001b[2K\u001b[1A\u001b[2K\u001b[1A\u001b[2K\u001b[1A\u001b[2K\u001b[1A\u001b[2K\u001b[1;32m✅ Flow Finished: \u001b[0m\u001b[32mPersistentCounterFlow\u001b[0m\n",
      "├── \u001b[37mFlow Method Step\u001b[0m\n",
      "├── \u001b[1;32m✅ Completed:\u001b[0m\u001b[1;32m increment\u001b[0m\n",
      "\u001b[2K\u001b[1A\u001b[2K\u001b[1A\u001b[2K\u001b[1A\u001b[2K\u001b[1;32m✅ Flow Finished: \u001b[0m\u001b[32mPersistentCounterFlow\u001b[0m\n",
      "├── \u001b[37mFlow Method Step\u001b[0m\n",
      "├── \u001b[1;32m✅ Completed:\u001b[0m\u001b[1;32m increment\u001b[0m\n",
      "└── \u001b[1;32m✅ Completed:\u001b[0m\u001b[1;32m double\u001b[0m\n",
      "\u001b[?25h\u001b[32m┌─\u001b[0m\u001b[32m─────────────────────────────\u001b[0m\u001b[32m Flow Completion \u001b[0m\u001b[32m─────────────────────────────\u001b[0m\u001b[32m─┐\u001b[0m\n",
      "\u001b[32m│\u001b[0m                                                                             \u001b[32m│\u001b[0m\n",
      "\u001b[32m│\u001b[0m  \u001b[1;32mFlow Execution Completed\u001b[0m                                                   \u001b[32m│\u001b[0m\n",
      "\u001b[32m│\u001b[0m  \u001b[37mName: \u001b[0m\u001b[32mPersistentCounterFlow\u001b[0m                                                \u001b[32m│\u001b[0m\n",
      "\u001b[32m│\u001b[0m  \u001b[37mID: \u001b[0m\u001b[32m3e07bb5f-6e12-4cb7-a21c-dff12bd73f78\u001b[0m                                   \u001b[32m│\u001b[0m\n",
      "\u001b[32m│\u001b[0m  \u001b[37mTool Args: \u001b[0m                                                                \u001b[32m│\u001b[0m\n",
      "\u001b[32m│\u001b[0m                                                                             \u001b[32m│\u001b[0m\n",
      "\u001b[32m│\u001b[0m                                                                             \u001b[32m│\u001b[0m\n",
      "\u001b[32m└─────────────────────────────────────────────────────────────────────────────┘\u001b[0m\n",
      "\n",
      "First run result: 2\n",
      "\u001b[34m┌─\u001b[0m\u001b[34m─────────────────────────────\u001b[0m\u001b[34m Flow Execution \u001b[0m\u001b[34m──────────────────────────────\u001b[0m\u001b[34m─┐\u001b[0m\n",
      "\u001b[34m│\u001b[0m                                                                             \u001b[34m│\u001b[0m\n",
      "\u001b[34m│\u001b[0m  \u001b[1;34mStarting Flow Execution\u001b[0m                                                    \u001b[34m│\u001b[0m\n",
      "\u001b[34m│\u001b[0m  \u001b[37mName: \u001b[0m\u001b[34mPersistentCounterFlow\u001b[0m                                                \u001b[34m│\u001b[0m\n",
      "\u001b[34m│\u001b[0m  \u001b[37mID: \u001b[0m\u001b[34mb891a9fc-89a9-4194-86ff-492a7f2c55b9\u001b[0m                                   \u001b[34m│\u001b[0m\n",
      "\u001b[34m│\u001b[0m  \u001b[37mTool Args: \u001b[0m                                                                \u001b[34m│\u001b[0m\n",
      "\u001b[34m│\u001b[0m                                                                             \u001b[34m│\u001b[0m\n",
      "\u001b[34m│\u001b[0m                                                                             \u001b[34m│\u001b[0m\n",
      "\u001b[34m└─────────────────────────────────────────────────────────────────────────────┘\u001b[0m\n",
      "\n",
      "\u001b[?25l\u001b[1;35m Flow started with ID: b891a9fc-89a9-4194-86ff-492a7f2c55b9\u001b[0m\n",
      "\u001b[1;34m🌊 Flow: \u001b[0m\u001b[34mPersistentCounterFlow\u001b[0m\n",
      "\u001b[37mID: \u001b[0m\u001b[34mb891a9fc-89a9-4194-86ff-492a7f2c55b9\u001b[0m\n",
      "\u001b[2K\u001b[1A\u001b[2K\u001b[1A\u001b[2K\u001b[1;34m🌊 Flow: \u001b[0m\u001b[34mPersistentCounterFlow\u001b[0m\n",
      "\u001b[37mID: \u001b[0m\u001b[34mb891a9fc-89a9-4194-86ff-492a7f2c55b9\u001b[0m\n",
      "├── \u001b[33m🧠 Starting Flow...\u001b[0m\n",
      "\u001b[2K\u001b[1A\u001b[2K\u001b[1A\u001b[2K\u001b[1A\u001b[2KIncremented to 1[0m\n",
      "\u001b[1;34m🌊 Flow: \u001b[0m\u001b[34mPersistentCounterFlow\u001b[0m\n",
      "\u001b[37mID: \u001b[0m\u001b[34mb891a9fc-89a9-4194-86ff-492a7f2c55b9\u001b[0m\n",
      "├── \u001b[33m🧠 Starting Flow...\u001b[0m\n",
      "\u001b[2K\u001b[1A\u001b[2K\u001b[1A\u001b[2K\u001b[1A\u001b[2K\u001b[1;34m🌊 Flow: \u001b[0m\u001b[34mPersistentCounterFlow\u001b[0m\n",
      "\u001b[37mID: \u001b[0m\u001b[34mb891a9fc-89a9-4194-86ff-492a7f2c55b9\u001b[0m\n",
      "├── \u001b[37mFlow Method Step\u001b[0m\n",
      "\u001b[2K\u001b[1A\u001b[2K\u001b[1A\u001b[2K\u001b[1A\u001b[2K\u001b[1;34m🌊 Flow: \u001b[0m\u001b[34mPersistentCounterFlow\u001b[0m\n",
      "\u001b[37mID: \u001b[0m\u001b[34mb891a9fc-89a9-4194-86ff-492a7f2c55b9\u001b[0m\n",
      "├── \u001b[37mFlow Method Step\u001b[0m\n",
      "├── \u001b[1;32m✅ Completed:\u001b[0m\u001b[1;32m increment\u001b[0m\n",
      "\u001b[2K\u001b[1A\u001b[2K\u001b[1A\u001b[2K\u001b[1A\u001b[2K\u001b[1A\u001b[2KDoubled to 2\n",
      "\u001b[1;34m🌊 Flow: \u001b[0m\u001b[34mPersistentCounterFlow\u001b[0m\n",
      "\u001b[37mID: \u001b[0m\u001b[34mb891a9fc-89a9-4194-86ff-492a7f2c55b9\u001b[0m\n",
      "├── \u001b[37mFlow Method Step\u001b[0m\n",
      "├── \u001b[1;32m✅ Completed:\u001b[0m\u001b[1;32m increment\u001b[0m\n",
      "\u001b[2K\u001b[1A\u001b[2K\u001b[1A\u001b[2K\u001b[1A\u001b[2K\u001b[1A\u001b[2K\u001b[1;34m🌊 Flow: \u001b[0m\u001b[34mPersistentCounterFlow\u001b[0m\n",
      "\u001b[37mID: \u001b[0m\u001b[34mb891a9fc-89a9-4194-86ff-492a7f2c55b9\u001b[0m\n",
      "├── \u001b[37mFlow Method Step\u001b[0m\n",
      "├── \u001b[1;32m✅ Completed:\u001b[0m\u001b[1;32m increment\u001b[0m\n",
      "\u001b[2K\u001b[1A\u001b[2K\u001b[1A\u001b[2K\u001b[1A\u001b[2K\u001b[1A\u001b[2K\u001b[1;32m✅ Flow Finished: \u001b[0m\u001b[32mPersistentCounterFlow\u001b[0m\n",
      "├── \u001b[37mFlow Method Step\u001b[0m\n",
      "├── \u001b[1;32m✅ Completed:\u001b[0m\u001b[1;32m increment\u001b[0m\n",
      "\u001b[2K\u001b[1A\u001b[2K\u001b[1A\u001b[2K\u001b[1A\u001b[2K\u001b[1;32m✅ Flow Finished: \u001b[0m\u001b[32mPersistentCounterFlow\u001b[0m\n",
      "├── \u001b[37mFlow Method Step\u001b[0m\n",
      "├── \u001b[1;32m✅ Completed:\u001b[0m\u001b[1;32m increment\u001b[0m\n",
      "└── \u001b[1;32m✅ Completed:\u001b[0m\u001b[1;32m double\u001b[0m\n",
      "\u001b[?25h\u001b[32m┌─\u001b[0m\u001b[32m─────────────────────────────\u001b[0m\u001b[32m Flow Completion \u001b[0m\u001b[32m─────────────────────────────\u001b[0m\u001b[32m─┐\u001b[0m\n",
      "\u001b[32m│\u001b[0m                                                                             \u001b[32m│\u001b[0m\n",
      "\u001b[32m│\u001b[0m  \u001b[1;32mFlow Execution Completed\u001b[0m                                                   \u001b[32m│\u001b[0m\n",
      "\u001b[32m│\u001b[0m  \u001b[37mName: \u001b[0m\u001b[32mPersistentCounterFlow\u001b[0m                                                \u001b[32m│\u001b[0m\n",
      "\u001b[32m│\u001b[0m  \u001b[37mID: \u001b[0m\u001b[32mb891a9fc-89a9-4194-86ff-492a7f2c55b9\u001b[0m                                   \u001b[32m│\u001b[0m\n",
      "\u001b[32m│\u001b[0m  \u001b[37mTool Args: \u001b[0m                                                                \u001b[32m│\u001b[0m\n",
      "\u001b[32m│\u001b[0m                                                                             \u001b[32m│\u001b[0m\n",
      "\u001b[32m│\u001b[0m                                                                             \u001b[32m│\u001b[0m\n",
      "\u001b[32m└─────────────────────────────────────────────────────────────────────────────┘\u001b[0m\n",
      "\n",
      "Second run result: 2\n"
     ]
    }
   ],
   "source": [
    "from crewai.flow.flow import Flow, listen, start\n",
    "from crewai.flow.persistence import persist\n",
    "from pydantic import BaseModel\n",
    "\n",
    "class CounterState(BaseModel):\n",
    "    value: int = 0\n",
    "\n",
    "@persist()  # Apply to the entire flow class\n",
    "class PersistentCounterFlow(Flow[CounterState]):\n",
    "    @start()\n",
    "    def increment(self):\n",
    "        self.state.value += 1\n",
    "        print(f\"Incremented to {self.state.value}\")\n",
    "        return self.state.value\n",
    "\n",
    "    @listen(increment)\n",
    "    def double(self, value):\n",
    "        self.state.value = value * 2\n",
    "        print(f\"Doubled to {self.state.value}\")\n",
    "        return self.state.value\n",
    "\n",
    "# First run\n",
    "flow1 = PersistentCounterFlow()\n",
    "result1 = flow1.kickoff()\n",
    "print(f\"First run result: {result1}\")\n",
    "\n",
    "# Second run - state is automatically loaded\n",
    "flow2 = PersistentCounterFlow()\n",
    "result2 = flow2.kickoff()\n",
    "print(f\"Second run result: {result2}\")  # Will be higher due to persisted state"
   ]
  },
  {
   "cell_type": "markdown",
   "id": "b8d6859e",
   "metadata": {},
   "source": [
    "### \n",
    "Method-Level Persistence"
   ]
  },
  {
   "cell_type": "code",
   "execution_count": 7,
   "id": "bc509e52",
   "metadata": {},
   "outputs": [],
   "source": [
    "from crewai.flow.flow import Flow, listen, start\n",
    "from crewai.flow.persistence import persist\n",
    "\n",
    "class SelectivePersistFlow(Flow):\n",
    "    @start()\n",
    "    def first_step(self):\n",
    "        self.state[\"count\"] = 1\n",
    "        return \"First step\"\n",
    "\n",
    "    @persist()  # Only persist after this method\n",
    "    @listen(first_step)\n",
    "    def important_step(self, prev_result):\n",
    "        self.state[\"count\"] += 1\n",
    "        self.state[\"important_data\"] = \"This will be persisted\"\n",
    "        return \"Important step completed\"\n",
    "\n",
    "    @listen(important_step)\n",
    "    def final_step(self, prev_result):\n",
    "        self.state[\"count\"] += 1\n",
    "        return f\"Complete with count {self.state['count']}\""
   ]
  },
  {
   "cell_type": "code",
   "execution_count": 8,
   "id": "e740f629",
   "metadata": {},
   "outputs": [
    {
     "data": {
      "text/html": [
       "<pre style=\"white-space:pre;overflow-x:auto;line-height:normal;font-family:Menlo,'DejaVu Sans Mono',consolas,'Courier New',monospace\"><span style=\"color: #000080; text-decoration-color: #000080\">╭──────────────────────────────────────────────── Flow Execution ─────────────────────────────────────────────────╮</span>\n",
       "<span style=\"color: #000080; text-decoration-color: #000080\">│</span>                                                                                                                 <span style=\"color: #000080; text-decoration-color: #000080\">│</span>\n",
       "<span style=\"color: #000080; text-decoration-color: #000080\">│</span>  <span style=\"color: #000080; text-decoration-color: #000080; font-weight: bold\">Starting Flow Execution</span>                                                                                        <span style=\"color: #000080; text-decoration-color: #000080\">│</span>\n",
       "<span style=\"color: #000080; text-decoration-color: #000080\">│</span>  <span style=\"color: #c0c0c0; text-decoration-color: #c0c0c0\">Name: </span><span style=\"color: #000080; text-decoration-color: #000080\">SelectivePersistFlow</span>                                                                                     <span style=\"color: #000080; text-decoration-color: #000080\">│</span>\n",
       "<span style=\"color: #000080; text-decoration-color: #000080\">│</span>  <span style=\"color: #c0c0c0; text-decoration-color: #c0c0c0\">ID: </span><span style=\"color: #000080; text-decoration-color: #000080\">e34e01bd-b3ea-44a3-899b-01a3979bf6ec</span>                                                                       <span style=\"color: #000080; text-decoration-color: #000080\">│</span>\n",
       "<span style=\"color: #000080; text-decoration-color: #000080\">│</span>  <span style=\"color: #c0c0c0; text-decoration-color: #c0c0c0\">Tool Args: </span>                                                                                                    <span style=\"color: #000080; text-decoration-color: #000080\">│</span>\n",
       "<span style=\"color: #000080; text-decoration-color: #000080\">│</span>                                                                                                                 <span style=\"color: #000080; text-decoration-color: #000080\">│</span>\n",
       "<span style=\"color: #000080; text-decoration-color: #000080\">│</span>                                                                                                                 <span style=\"color: #000080; text-decoration-color: #000080\">│</span>\n",
       "<span style=\"color: #000080; text-decoration-color: #000080\">╰─────────────────────────────────────────────────────────────────────────────────────────────────────────────────╯</span>\n",
       "</pre>\n"
      ],
      "text/plain": [
       "\u001b[34m╭─\u001b[0m\u001b[34m───────────────────────────────────────────────\u001b[0m\u001b[34m Flow Execution \u001b[0m\u001b[34m────────────────────────────────────────────────\u001b[0m\u001b[34m─╮\u001b[0m\n",
       "\u001b[34m│\u001b[0m                                                                                                                 \u001b[34m│\u001b[0m\n",
       "\u001b[34m│\u001b[0m  \u001b[1;34mStarting Flow Execution\u001b[0m                                                                                        \u001b[34m│\u001b[0m\n",
       "\u001b[34m│\u001b[0m  \u001b[37mName: \u001b[0m\u001b[34mSelectivePersistFlow\u001b[0m                                                                                     \u001b[34m│\u001b[0m\n",
       "\u001b[34m│\u001b[0m  \u001b[37mID: \u001b[0m\u001b[34me34e01bd-b3ea-44a3-899b-01a3979bf6ec\u001b[0m                                                                       \u001b[34m│\u001b[0m\n",
       "\u001b[34m│\u001b[0m  \u001b[37mTool Args: \u001b[0m                                                                                                    \u001b[34m│\u001b[0m\n",
       "\u001b[34m│\u001b[0m                                                                                                                 \u001b[34m│\u001b[0m\n",
       "\u001b[34m│\u001b[0m                                                                                                                 \u001b[34m│\u001b[0m\n",
       "\u001b[34m╰─────────────────────────────────────────────────────────────────────────────────────────────────────────────────╯\u001b[0m\n"
      ]
     },
     "metadata": {},
     "output_type": "display_data"
    },
    {
     "data": {
      "text/html": [
       "<pre style=\"white-space:pre;overflow-x:auto;line-height:normal;font-family:Menlo,'DejaVu Sans Mono',consolas,'Courier New',monospace\">\n",
       "</pre>\n"
      ],
      "text/plain": [
       "\n"
      ]
     },
     "metadata": {},
     "output_type": "display_data"
    },
    {
     "data": {
      "text/html": [
       "<pre style=\"white-space:pre;overflow-x:auto;line-height:normal;font-family:Menlo,'DejaVu Sans Mono',consolas,'Courier New',monospace\"><span style=\"color: #800080; text-decoration-color: #800080; font-weight: bold\"> Flow started with ID: e34e01bd-b3ea-44a3-899b-01a3979bf6ec</span>\n",
       "</pre>\n"
      ],
      "text/plain": [
       "\u001b[1;35m Flow started with ID: e34e01bd-b3ea-44a3-899b-01a3979bf6ec\u001b[0m\n"
      ]
     },
     "metadata": {},
     "output_type": "display_data"
    },
    {
     "data": {
      "text/html": [
       "<pre style=\"white-space:pre;overflow-x:auto;line-height:normal;font-family:Menlo,'DejaVu Sans Mono',consolas,'Courier New',monospace\">d:\\Learn\\AI-Agents-Dev\\crewai-projects\\.venv\\Lib\\site-packages\\rich\\live.py:231: UserWarning: install \"ipywidgets\" \n",
       "for Jupyter support\n",
       "  warnings.warn('install \"ipywidgets\" for Jupyter support')\n",
       "</pre>\n"
      ],
      "text/plain": [
       "d:\\Learn\\AI-Agents-Dev\\crewai-projects\\.venv\\Lib\\site-packages\\rich\\live.py:231: UserWarning: install \"ipywidgets\" \n",
       "for Jupyter support\n",
       "  warnings.warn('install \"ipywidgets\" for Jupyter support')\n"
      ]
     },
     "metadata": {},
     "output_type": "display_data"
    },
    {
     "data": {
      "text/html": [
       "<pre style=\"white-space:pre;overflow-x:auto;line-height:normal;font-family:Menlo,'DejaVu Sans Mono',consolas,'Courier New',monospace\"></pre>\n"
      ],
      "text/plain": []
     },
     "metadata": {},
     "output_type": "display_data"
    },
    {
     "data": {
      "text/html": [
       "<pre style=\"white-space:pre;overflow-x:auto;line-height:normal;font-family:Menlo,'DejaVu Sans Mono',consolas,'Courier New',monospace\"><span style=\"color: #008000; text-decoration-color: #008000\">╭──────────────────────────────────────────────── Flow Completion ────────────────────────────────────────────────╮</span>\n",
       "<span style=\"color: #008000; text-decoration-color: #008000\">│</span>                                                                                                                 <span style=\"color: #008000; text-decoration-color: #008000\">│</span>\n",
       "<span style=\"color: #008000; text-decoration-color: #008000\">│</span>  <span style=\"color: #008000; text-decoration-color: #008000; font-weight: bold\">Flow Execution Completed</span>                                                                                       <span style=\"color: #008000; text-decoration-color: #008000\">│</span>\n",
       "<span style=\"color: #008000; text-decoration-color: #008000\">│</span>  <span style=\"color: #c0c0c0; text-decoration-color: #c0c0c0\">Name: </span><span style=\"color: #008000; text-decoration-color: #008000\">SelectivePersistFlow</span>                                                                                     <span style=\"color: #008000; text-decoration-color: #008000\">│</span>\n",
       "<span style=\"color: #008000; text-decoration-color: #008000\">│</span>  <span style=\"color: #c0c0c0; text-decoration-color: #c0c0c0\">ID: </span><span style=\"color: #008000; text-decoration-color: #008000\">e34e01bd-b3ea-44a3-899b-01a3979bf6ec</span>                                                                       <span style=\"color: #008000; text-decoration-color: #008000\">│</span>\n",
       "<span style=\"color: #008000; text-decoration-color: #008000\">│</span>  <span style=\"color: #c0c0c0; text-decoration-color: #c0c0c0\">Tool Args: </span>                                                                                                    <span style=\"color: #008000; text-decoration-color: #008000\">│</span>\n",
       "<span style=\"color: #008000; text-decoration-color: #008000\">│</span>                                                                                                                 <span style=\"color: #008000; text-decoration-color: #008000\">│</span>\n",
       "<span style=\"color: #008000; text-decoration-color: #008000\">│</span>                                                                                                                 <span style=\"color: #008000; text-decoration-color: #008000\">│</span>\n",
       "<span style=\"color: #008000; text-decoration-color: #008000\">╰─────────────────────────────────────────────────────────────────────────────────────────────────────────────────╯</span>\n",
       "</pre>\n"
      ],
      "text/plain": [
       "\u001b[32m╭─\u001b[0m\u001b[32m───────────────────────────────────────────────\u001b[0m\u001b[32m Flow Completion \u001b[0m\u001b[32m───────────────────────────────────────────────\u001b[0m\u001b[32m─╮\u001b[0m\n",
       "\u001b[32m│\u001b[0m                                                                                                                 \u001b[32m│\u001b[0m\n",
       "\u001b[32m│\u001b[0m  \u001b[1;32mFlow Execution Completed\u001b[0m                                                                                       \u001b[32m│\u001b[0m\n",
       "\u001b[32m│\u001b[0m  \u001b[37mName: \u001b[0m\u001b[32mSelectivePersistFlow\u001b[0m                                                                                     \u001b[32m│\u001b[0m\n",
       "\u001b[32m│\u001b[0m  \u001b[37mID: \u001b[0m\u001b[32me34e01bd-b3ea-44a3-899b-01a3979bf6ec\u001b[0m                                                                       \u001b[32m│\u001b[0m\n",
       "\u001b[32m│\u001b[0m  \u001b[37mTool Args: \u001b[0m                                                                                                    \u001b[32m│\u001b[0m\n",
       "\u001b[32m│\u001b[0m                                                                                                                 \u001b[32m│\u001b[0m\n",
       "\u001b[32m│\u001b[0m                                                                                                                 \u001b[32m│\u001b[0m\n",
       "\u001b[32m╰─────────────────────────────────────────────────────────────────────────────────────────────────────────────────╯\u001b[0m\n"
      ]
     },
     "metadata": {},
     "output_type": "display_data"
    },
    {
     "data": {
      "text/html": [
       "<pre style=\"white-space:pre;overflow-x:auto;line-height:normal;font-family:Menlo,'DejaVu Sans Mono',consolas,'Courier New',monospace\">\n",
       "</pre>\n"
      ],
      "text/plain": [
       "\n"
      ]
     },
     "metadata": {},
     "output_type": "display_data"
    },
    {
     "name": "stdout",
     "output_type": "stream",
     "text": [
      "Flow completed with result: Complete with count 3\n"
     ]
    }
   ],
   "source": [
    "flow= SelectivePersistFlow()\n",
    "result = flow.kickoff()\n",
    "print(f\"Flow completed with result: {result}\")"
   ]
  },
  {
   "cell_type": "code",
   "execution_count": null,
   "id": "bc42991f",
   "metadata": {},
   "outputs": [],
   "source": [
    "### Example of using the flow with CrewAI: Condition Based\n",
    "from crewai.flow.flow import Flow, listen, router, start\n",
    "from pydantic import BaseModel\n",
    "\n",
    "class PaymentState(BaseModel):\n",
    "    amount: float = 0.0\n",
    "    is_approved: bool = False\n",
    "    retry_count: int = 0\n",
    "\n",
    "class PaymentFlow(Flow[PaymentState]):\n",
    "    @start()\n",
    "    def process_payment(self):\n",
    "        # Simulate payment processing\n",
    "        # self.state.amount = 100.0\n",
    "        self.state.is_approved = self.state.amount < 1000\n",
    "        return \"Payment processed\"\n",
    "\n",
    "    @router(process_payment)\n",
    "    def check_approval(self, previous_result):\n",
    "        if self.state.is_approved:\n",
    "            return \"approved\"\n",
    "        elif self.state.retry_count < 3:\n",
    "            return \"retry\"\n",
    "        else:\n",
    "            return \"rejected\"\n",
    "\n",
    "    @listen(\"approved\")\n",
    "    def handle_approval(self):\n",
    "        return f\"Payment of ${self.state.amount} approved!\"\n",
    "\n",
    "    @listen(\"retry\")\n",
    "    def handle_retry(self):\n",
    "        self.state.retry_count += 1\n",
    "        print(f\"Retrying payment (attempt {self.state.retry_count})...\")\n",
    "        # Could implement retry logic here\n",
    "        return \"Retry initiated\"\n",
    "\n",
    "    @listen(\"rejected\")\n",
    "    def handle_rejection(self):\n",
    "        return f\"Payment of ${self.state.amount} rejected after {self.state.retry_count} retries.\""
   ]
  },
  {
   "cell_type": "code",
   "execution_count": null,
   "id": "b98e3885",
   "metadata": {},
   "outputs": [
    {
     "data": {
      "text/html": [
       "<pre style=\"white-space:pre;overflow-x:auto;line-height:normal;font-family:Menlo,'DejaVu Sans Mono',consolas,'Courier New',monospace\"><span style=\"color: #000080; text-decoration-color: #000080\">╭──────────────────────────────────────────────── Flow Execution ─────────────────────────────────────────────────╮</span>\n",
       "<span style=\"color: #000080; text-decoration-color: #000080\">│</span>                                                                                                                 <span style=\"color: #000080; text-decoration-color: #000080\">│</span>\n",
       "<span style=\"color: #000080; text-decoration-color: #000080\">│</span>  <span style=\"color: #000080; text-decoration-color: #000080; font-weight: bold\">Starting Flow Execution</span>                                                                                        <span style=\"color: #000080; text-decoration-color: #000080\">│</span>\n",
       "<span style=\"color: #000080; text-decoration-color: #000080\">│</span>  <span style=\"color: #c0c0c0; text-decoration-color: #c0c0c0\">Name: </span><span style=\"color: #000080; text-decoration-color: #000080\">PaymentFlow</span>                                                                                              <span style=\"color: #000080; text-decoration-color: #000080\">│</span>\n",
       "<span style=\"color: #000080; text-decoration-color: #000080\">│</span>  <span style=\"color: #c0c0c0; text-decoration-color: #c0c0c0\">ID: </span><span style=\"color: #000080; text-decoration-color: #000080\">2493c526-2e33-4ce4-b157-4a79ab52446d</span>                                                                       <span style=\"color: #000080; text-decoration-color: #000080\">│</span>\n",
       "<span style=\"color: #000080; text-decoration-color: #000080\">│</span>  <span style=\"color: #c0c0c0; text-decoration-color: #c0c0c0\">Tool Args: </span>                                                                                                    <span style=\"color: #000080; text-decoration-color: #000080\">│</span>\n",
       "<span style=\"color: #000080; text-decoration-color: #000080\">│</span>                                                                                                                 <span style=\"color: #000080; text-decoration-color: #000080\">│</span>\n",
       "<span style=\"color: #000080; text-decoration-color: #000080\">│</span>                                                                                                                 <span style=\"color: #000080; text-decoration-color: #000080\">│</span>\n",
       "<span style=\"color: #000080; text-decoration-color: #000080\">╰─────────────────────────────────────────────────────────────────────────────────────────────────────────────────╯</span>\n",
       "</pre>\n"
      ],
      "text/plain": [
       "\u001b[34m╭─\u001b[0m\u001b[34m───────────────────────────────────────────────\u001b[0m\u001b[34m Flow Execution \u001b[0m\u001b[34m────────────────────────────────────────────────\u001b[0m\u001b[34m─╮\u001b[0m\n",
       "\u001b[34m│\u001b[0m                                                                                                                 \u001b[34m│\u001b[0m\n",
       "\u001b[34m│\u001b[0m  \u001b[1;34mStarting Flow Execution\u001b[0m                                                                                        \u001b[34m│\u001b[0m\n",
       "\u001b[34m│\u001b[0m  \u001b[37mName: \u001b[0m\u001b[34mPaymentFlow\u001b[0m                                                                                              \u001b[34m│\u001b[0m\n",
       "\u001b[34m│\u001b[0m  \u001b[37mID: \u001b[0m\u001b[34m2493c526-2e33-4ce4-b157-4a79ab52446d\u001b[0m                                                                       \u001b[34m│\u001b[0m\n",
       "\u001b[34m│\u001b[0m  \u001b[37mTool Args: \u001b[0m                                                                                                    \u001b[34m│\u001b[0m\n",
       "\u001b[34m│\u001b[0m                                                                                                                 \u001b[34m│\u001b[0m\n",
       "\u001b[34m│\u001b[0m                                                                                                                 \u001b[34m│\u001b[0m\n",
       "\u001b[34m╰─────────────────────────────────────────────────────────────────────────────────────────────────────────────────╯\u001b[0m\n"
      ]
     },
     "metadata": {},
     "output_type": "display_data"
    },
    {
     "data": {
      "text/html": [
       "<pre style=\"white-space:pre;overflow-x:auto;line-height:normal;font-family:Menlo,'DejaVu Sans Mono',consolas,'Courier New',monospace\">\n",
       "</pre>\n"
      ],
      "text/plain": [
       "\n"
      ]
     },
     "metadata": {},
     "output_type": "display_data"
    },
    {
     "data": {
      "text/html": [
       "<pre style=\"white-space:pre;overflow-x:auto;line-height:normal;font-family:Menlo,'DejaVu Sans Mono',consolas,'Courier New',monospace\"><span style=\"color: #800080; text-decoration-color: #800080; font-weight: bold\"> Flow started with ID: 2493c526-2e33-4ce4-b157-4a79ab52446d</span>\n",
       "</pre>\n"
      ],
      "text/plain": [
       "\u001b[1;35m Flow started with ID: 2493c526-2e33-4ce4-b157-4a79ab52446d\u001b[0m\n"
      ]
     },
     "metadata": {},
     "output_type": "display_data"
    },
    {
     "data": {
      "application/vnd.jupyter.widget-view+json": {
       "model_id": "e3b6c46ef9944bffabd7b55db2038367",
       "version_major": 2,
       "version_minor": 0
      },
      "text/plain": [
       "Output()"
      ]
     },
     "metadata": {},
     "output_type": "display_data"
    }
   ],
   "source": [
    "flow = PaymentFlow(state=PaymentState(amount=20000.0))\n",
    "result = flow.kickoff()\n",
    "print(f\"{result}\")"
   ]
  }
 ],
 "metadata": {
  "kernelspec": {
   "display_name": ".venv",
   "language": "python",
   "name": "python3"
  },
  "language_info": {
   "codemirror_mode": {
    "name": "ipython",
    "version": 3
   },
   "file_extension": ".py",
   "mimetype": "text/x-python",
   "name": "python",
   "nbconvert_exporter": "python",
   "pygments_lexer": "ipython3",
   "version": "3.11.0"
  }
 },
 "nbformat": 4,
 "nbformat_minor": 5
}
