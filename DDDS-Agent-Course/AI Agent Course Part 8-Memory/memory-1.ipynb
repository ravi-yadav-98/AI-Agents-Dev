{
 "cells": [
  {
   "cell_type": "code",
   "execution_count": 1,
   "id": "4e65ce6f",
   "metadata": {},
   "outputs": [],
   "source": [
    "import nest_asyncio\n",
    "\n",
    "nest_asyncio.apply()"
   ]
  },
  {
   "cell_type": "code",
   "execution_count": 7,
   "id": "1e2635ec",
   "metadata": {},
   "outputs": [],
   "source": [
    "from crewai import Crew, Agent, Task, Process\n",
    "\n",
    "# Define a simple agent (assuming a default LLM agent)\n",
    "assistant = Agent(role=\"Personal Assistant\",\n",
    "                  goal=\"\"\"You are a personal assistant that can\n",
    "                          help the user with their tasks.\"\"\",\n",
    "                  backstory=\"\"\"You are a personal assistant that\n",
    "                               can help the user with their tasks.\"\"\",\n",
    "                  verbose=False)\n",
    "\n",
    "task = Task(description=\"Handle this task: {user_task}\",\n",
    "            expected_output=\"A clear and concise answer to the question.\",\n",
    "            agent=assistant)\n",
    "\n",
    "# Create a crew with memory enabled\n",
    "crew = Crew(\n",
    "    agents=[assistant], \n",
    "    tasks=[task], \n",
    "    process=Process.sequential,\n",
    "    # verbose=True,\n",
    "    memory=True,\n",
    ")"
   ]
  },
  {
   "cell_type": "code",
   "execution_count": 17,
   "id": "9b7ea5ce",
   "metadata": {},
   "outputs": [
    {
     "name": "stdout",
     "output_type": "stream",
     "text": [
      "Here are some effective weight loss strategies to help you achieve your goals:\n",
      "\n",
      "1. **Set Realistic Goals**: Start with specific, measurable, achievable, relevant, and time-bound (SMART) targets. Aim to lose about 1-2 pounds per week, which is a safe and sustainable rate.\n",
      "\n",
      "2. **Balanced Diet**: Prioritize a comprehensive diet filled with nutrient-dense foods. Include plenty of fruits, vegetables, whole grains, lean proteins, and healthy fats. Reduce your intake of processed foods, sugars, and high-calorie snacks.\n",
      "\n",
      "3. **Portion Control**: To help regulate your calorie intake, be conscious of serving sizes. Consider using smaller plates to naturally limit portions and avoid overeating.\n",
      "\n",
      "4. **Regular Exercise**: Commit to at least 150 minutes of moderate aerobic exercise or 75 minutes of vigorous aerobic sessions each week. Incorporate strength training at least two days a week to build muscle, which can boost your metabolism.\n",
      "\n",
      "5. **Stay Hydrated**: Drink sufficient water daily, as hydration is crucial for overall health and can help prevent misinterpreting thirst for hunger.\n",
      "\n",
      "6. **Mindful Eating**: Engage in mindful eating practices by focusing on your meals, enjoying each bite, and removing distractions, such as screens, during meals to reduce the risk of overeating.\n",
      "\n",
      "7. **Prioritize Sleep**: Aim for about 7-9 hours of quality sleep each night. Sleep deprivation can disrupt hormones that control hunger, leading to increased appetite.\n",
      "\n",
      "8. **Monitor Your Progress**: Keeping a food diary or using weight loss apps can aid in tracking your dietary intake, physical activity, and weight loss journey. This accountability can strengthen your motivation and help identify areas needing adjustment.\n",
      "\n",
      "9. **Seek Support**: Engage with weight loss groups or enlist a buddy for motivation. Sharing your goals and progress with others can foster accountability and encouragement.\n",
      "\n",
      "10. **Consistency is Key**: Understand that weight loss is often a gradual process. Stay committed to your healthy habits despite setbacks. Focus on making lifestyle changes that you can maintain long-term rather than seeking quick fixes.\n",
      "\n",
      "By integrating these strategies into your daily life, you can create a balanced and sustainable weight loss plan that promotes health and wellness while helping you reach your goals.\n"
     ]
    }
   ],
   "source": [
    "user_input = \"\"\"I want to loose weight\"\"\"\n",
    "\n",
    "result = crew.kickoff(inputs={\"user_task\": user_input})\n",
    "print(result.raw)"
   ]
  },
  {
   "cell_type": "code",
   "execution_count": 18,
   "id": "40cb797c",
   "metadata": {},
   "outputs": [
    {
     "name": "stdout",
     "output_type": "stream",
     "text": [
      "Yes, you can eat pizza! However, there are a few considerations to keep in mind to enjoy it in a balanced way:\n",
      "\n",
      "1. **Choose Your Toppings Wisely**: Opt for healthier toppings like vegetables, lean meats, or lighter cheese options. Avoid excessive amounts of high-calorie toppings such as extra cheese or processed meats.\n",
      "\n",
      "2. **Portion Control**: Be mindful of portion sizes. Instead of having several slices, limit yourself to one or two slices, especially if it's a larger pizza. Pair it with a side salad to help fill you up without overeating.\n",
      "\n",
      "3. **Make a Healthier Version**: If you're making pizza at home, use whole grain or cauliflower crust for added fiber and nutrients. You can also control the cheese and sauce portions for a healthier alternative.\n",
      "\n",
      "4. **Balance with Other Meals**: If you indulge in pizza, try to balance your day with lighter meals that are packed with nutrients. This way, you can enjoy your pizza while still meeting your dietary needs.\n",
      "\n",
      "5. **Frequency**: Enjoy pizza as an occasional treat rather than a staple in your diet. This will help maintain a well-rounded and balanced approach to your meals.\n",
      "\n",
      "In conclusion, you can definitely enjoy pizza as part of a balanced diet, just be mindful of the toppings, portion sizes, and overall meal balance.\n"
     ]
    }
   ],
   "source": [
    "user_input = \"Can I eat pizza ?\"\n",
    "\n",
    "result = crew.kickoff(inputs={\"user_task\": user_input})\n",
    "print(result.raw)"
   ]
  },
  {
   "cell_type": "code",
   "execution_count": 11,
   "id": "75809da5",
   "metadata": {},
   "outputs": [
    {
     "data": {
      "text/plain": [
       "ShortTermMemory(embedder_config=None, crew=None, storage=<crewai.memory.storage.rag_storage.RAGStorage object at 0x00000240E48AE180>)"
      ]
     },
     "execution_count": 11,
     "metadata": {},
     "output_type": "execute_result"
    }
   ],
   "source": [
    "crew._short_term_memory"
   ]
  },
  {
   "cell_type": "code",
   "execution_count": 12,
   "id": "55de987f",
   "metadata": {},
   "outputs": [
    {
     "data": {
      "text/plain": [
       "[{'id': '5bfbb121-1436-4888-9e63-262f0f024e98',\n",
       "  'metadata': {'observation': 'Handle this task: What is my favorite color?',\n",
       "   'agent': 'Personal Assistant'},\n",
       "  'context': 'I now can give a great answer  \\nFinal Answer: Your favorite color is #46778F.',\n",
       "  'score': 0.7352319359779358},\n",
       " {'id': '46d2c4ae-a7ea-4c36-a5c4-eda4c0a4f87f',\n",
       "  'metadata': {'agent': 'Personal Assistant',\n",
       "   'observation': 'Handle this task: My favorite color is #46778F and\\n                my favorite Agent framework is CrewAI.'},\n",
       "  'context': 'I now can give a great answer  \\nFinal Answer: Your favorite color is #46778F and your favorite Agent framework is CrewAI.',\n",
       "  'score': 0.9170303344726562},\n",
       " {'id': '3331f7cb-833e-4000-926a-3108ab2e55b2',\n",
       "  'metadata': {'observation': 'Handle this task: What is my favorite color?',\n",
       "   'agent': 'Personal Assistant'},\n",
       "  'context': 'I now can give a great answer  \\nFinal Answer: Your favorite color is #46778F and your favorite Agent framework is CrewAI.',\n",
       "  'score': 0.9170303344726562}]"
      ]
     },
     "execution_count": 12,
     "metadata": {},
     "output_type": "execute_result"
    }
   ],
   "source": [
    "user_input = \"What is my favorite color?\"\n",
    "\n",
    "crew._short_term_memory.storage.search(user_input)"
   ]
  },
  {
   "cell_type": "code",
   "execution_count": 13,
   "id": "292fe8b7",
   "metadata": {},
   "outputs": [
    {
     "data": {
      "text/plain": [
       "[{'metadata': {'suggestions': ['Provide a more direct response to the question without unnecessary preamble.',\n",
       "    'Ensure that the answer clearly identifies and matches the expected output format.',\n",
       "    \"Avoid using ambiguous phrases like 'I now can give a great answer' in formal responses.\"],\n",
       "   'quality': 5.0,\n",
       "   'agent': 'Personal Assistant',\n",
       "   'expected_output': 'A clear and concise answer to the question.'},\n",
       "  'datetime': '1753553740.6505997',\n",
       "  'score': 5.0},\n",
       " {'metadata': {'suggestions': ['Ensure that the response directly answers the question without unnecessary preamble or irrelevant information.',\n",
       "    'Focus on providing clear and concise responses that directly address the question provided.',\n",
       "    'Avoid adding unrelated information such as favorite Agent frameworks unless specifically requested.'],\n",
       "   'quality': 4.0,\n",
       "   'agent': 'Personal Assistant',\n",
       "   'expected_output': 'A clear and concise answer to the question.'},\n",
       "  'datetime': '1753553566.3272338',\n",
       "  'score': 4.0}]"
      ]
     },
     "execution_count": 13,
     "metadata": {},
     "output_type": "execute_result"
    }
   ],
   "source": [
    "crew._long_term_memory.search(task.description)"
   ]
  },
  {
   "cell_type": "code",
   "execution_count": 14,
   "id": "8bcf823e",
   "metadata": {},
   "outputs": [
    {
     "data": {
      "text/plain": [
       "[{'id': '1937999a-dbea-48b9-ba05-7d9af0b29374',\n",
       "  'metadata': {'relationships': '- associated with user preferences\\n- part of personal information'},\n",
       "  'context': \"favorite color(Color): The color mentioned as the user's favorite.\",\n",
       "  'score': 0.7071892619132996},\n",
       " {'id': '3a5ac655-cbfa-4722-978a-b5a994ccf260',\n",
       "  'metadata': {'relationships': '- related to personal preference'},\n",
       "  'context': 'favorite color(Color): The specific color that is preferred by the individual.',\n",
       "  'score': 0.7884384989738464},\n",
       " {'id': 'bc9eb1ae-b6b3-41fd-ac66-f20b05f12238',\n",
       "  'metadata': {'relationships': '- is the main subject of the task'},\n",
       "  'context': 'favorite color(color): A color that someone is particularly fond of.',\n",
       "  'score': 0.8038825392723083}]"
      ]
     },
     "execution_count": 14,
     "metadata": {},
     "output_type": "execute_result"
    }
   ],
   "source": [
    "user_input = \"What is my favorite color?\"\n",
    "\n",
    "crew._entity_memory.search(user_input)"
   ]
  },
  {
   "cell_type": "code",
   "execution_count": null,
   "id": "50fdc290",
   "metadata": {},
   "outputs": [],
   "source": []
  }
 ],
 "metadata": {
  "kernelspec": {
   "display_name": ".venv",
   "language": "python",
   "name": "python3"
  },
  "language_info": {
   "codemirror_mode": {
    "name": "ipython",
    "version": 3
   },
   "file_extension": ".py",
   "mimetype": "text/x-python",
   "name": "python",
   "nbconvert_exporter": "python",
   "pygments_lexer": "ipython3",
   "version": "3.12.8"
  }
 },
 "nbformat": 4,
 "nbformat_minor": 5
}
