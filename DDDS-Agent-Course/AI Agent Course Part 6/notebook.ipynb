{
 "cells": [
  {
   "cell_type": "code",
   "execution_count": null,
   "metadata": {},
   "outputs": [],
   "source": [
    "from crewai import Agent, LLM\n",
    "\n",
    "# create a .env file and add the OpenAI API key to it as follows:\n",
    "# OPENAI_API_KEY=\"your_openai_api_key\"\n",
    "\n",
    "llm = LLM(model=\"gpt-4o\")"
   ]
  },
  {
   "cell_type": "markdown",
   "metadata": {},
   "source": [
    "## Guardrails Demo 1"
   ]
  },
  {
   "cell_type": "code",
   "execution_count": 15,
   "metadata": {},
   "outputs": [],
   "source": [
    "def validate_summary_length(task_output):\n",
    "    try:\n",
    "        print(\"Validating summary length\")\n",
    "        task_str_output = str(task_output)\n",
    "        total_words = len(task_str_output.split())\n",
    "\n",
    "        print(f\"Word count: {total_words}\")\n",
    "\n",
    "        if total_words > 150:\n",
    "            print(\"Summary exceeds 150 words\")\n",
    "            return (False, f\"Summary exceeds 150 words. Word count: {total_words}\")\n",
    "\n",
    "        if total_words == 0:\n",
    "            print(\"Summary is empty\")\n",
    "            return (False, \"Generated summary is empty.\")\n",
    "\n",
    "        print(\"Summary is valid\")\n",
    "        return (True, task_output)\n",
    "\n",
    "    except Exception as e:\n",
    "        print(\"Validation system error\")\n",
    "        return (False, f\"Validation system error: {str(e)}\")\n"
   ]
  },
  {
   "cell_type": "code",
   "execution_count": 8,
   "metadata": {},
   "outputs": [],
   "source": [
    "from crewai import Task, Agent\n",
    "\n",
    "summary_agent = Agent(\n",
    "    role=\"Summary Agent\",\n",
    "    goal=\"Summarize the research paper 'Convolutional Neural Networks' in 150 words.\",\n",
    "    backstory=\"You are a specialized agent that summarizes research papers.\",\n",
    "    verbose=True\n",
    ")\n",
    "\n",
    "summary_task = Task(\n",
    "    description=\"Summarize a research paper in 150 words.\",\n",
    "    expected_output=\"A concise research summary 150 words.\",\n",
    "    agent=summary_agent,\n",
    "    guardrail=validate_summary_length,\n",
    "\n",
    "    max_retries=3\n",
    ")\n"
   ]
  },
  {
   "cell_type": "code",
   "execution_count": null,
   "metadata": {},
   "outputs": [],
   "source": [
    "from crewai import Crew\n",
    "\n",
    "summary_crew = Crew(\n",
    "    agents=[summary_agent],\n",
    "    tasks=[summary_task],\n",
    "    verbose=True\n",
    ")\n",
    "\n",
    "result = summary_crew.kickoff()"
   ]
  },
  {
   "cell_type": "markdown",
   "metadata": {},
   "source": [
    "### Ask the agent to write a 200 word summary instead and notice the guardrail output:"
   ]
  },
  {
   "cell_type": "code",
   "execution_count": 18,
   "metadata": {},
   "outputs": [],
   "source": [
    "from crewai import Task, Agent\n",
    "\n",
    "summary_agent = Agent(\n",
    "    role=\"Summary Agent\",\n",
    "    goal=\"Summarize the research paper 'Convolutional Neural Networks' in 200 words.\",\n",
    "    backstory=\"You are a specialized agent that summarizes research papers.\",\n",
    "    verbose=True\n",
    ")\n",
    "\n",
    "summary_task = Task(\n",
    "    description=\"Summarize a research paper in 200 words.\",\n",
    "    expected_output=\"A concise research summary 200 words.\",\n",
    "    agent=summary_agent,\n",
    "    guardrail=validate_summary_length,\n",
    "    max_retries=3\n",
    ")\n"
   ]
  },
  {
   "cell_type": "code",
   "execution_count": null,
   "metadata": {},
   "outputs": [],
   "source": [
    "from crewai import Crew\n",
    "\n",
    "summary_crew = Crew(\n",
    "    agents=[summary_agent],\n",
    "    tasks=[summary_task],\n",
    "    verbose=True\n",
    ")\n",
    "\n",
    "result = summary_crew.kickoff()"
   ]
  },
  {
   "cell_type": "markdown",
   "metadata": {},
   "source": [
    "## Guardrails demo 2"
   ]
  },
  {
   "cell_type": "code",
   "execution_count": 56,
   "metadata": {},
   "outputs": [],
   "source": [
    "from pydantic import BaseModel\n",
    "\n",
    "class ResearchReport(BaseModel):\n",
    "    \"\"\"Represents a structured research report\"\"\"\n",
    "    title: str\n",
    "    summary: str\n",
    "    key_findings: list[str]"
   ]
  },
  {
   "cell_type": "code",
   "execution_count": 57,
   "metadata": {},
   "outputs": [],
   "source": [
    "import json\n",
    "from typing import Tuple, Any\n",
    "\n",
    "def validate_json_report(result: str) -> Tuple[bool, Any]:\n",
    "    \"\"\"Ensures AI-generated output is valid JSON with required fields.\"\"\"\n",
    "    try:\n",
    "        # Parse JSON output\n",
    "        data = json.loads(result.pydantic.model_dump_json())\n",
    "\n",
    "        # Check required fields\n",
    "        if \"title\" not in data or \"summary\" not in data or \"key_findings\" not in data:\n",
    "            return (False, \"Missing required fields: title, summary, or key_findings.\")\n",
    "\n",
    "        return (True, result)  # JSON is valid\n",
    "    except json.JSONDecodeError:\n",
    "        return (False, \"Invalid JSON format. Please ensure correct syntax.\")\n"
   ]
  },
  {
   "cell_type": "code",
   "execution_count": 58,
   "metadata": {},
   "outputs": [],
   "source": [
    "from crewai import Agent\n",
    "\n",
    "# Create the AI Agent\n",
    "research_report_agent = Agent(\n",
    "    role=\"Research Analyst\",\n",
    "    goal=\"Generate structured JSON reports for research papers\",\n",
    "    backstory=\"You are an expert in technical writing and structured reporting.\",\n",
    "    verbose=False,\n",
    ")\n"
   ]
  },
  {
   "cell_type": "code",
   "execution_count": 59,
   "metadata": {},
   "outputs": [],
   "source": [
    "from crewai import Task\n",
    "\n",
    "research_report_task = Task(\n",
    "    description=\"Generate a structured research report in valid JSON format.\",\n",
    "    expected_output=\"A valid JSON object containing 'title', 'summary', and 'key_findings'.\",\n",
    "    agent=research_report_agent,\n",
    "    output_pydantic=ResearchReport,  # Ensures structured output\n",
    "    guardrail=validate_json_report,  # Validate output before passing to next step\n",
    "    max_retries=3  # Allow up to 3 retries if validation fails\n",
    ")"
   ]
  },
  {
   "cell_type": "code",
   "execution_count": null,
   "metadata": {},
   "outputs": [],
   "source": [
    "from crewai import Crew\n",
    "\n",
    "research_crew = Crew(\n",
    "    agents=[research_report_agent],\n",
    "    tasks=[research_report_task],\n",
    "    verbose=True  # Display execution details\n",
    ")\n"
   ]
  },
  {
   "cell_type": "code",
   "execution_count": null,
   "metadata": {},
   "outputs": [],
   "source": [
    "result = research_crew.kickoff()\n",
    "\n",
    "# Display the validated JSON output\n",
    "print(\"Final Research Report:\", result.pydantic)"
   ]
  },
  {
   "cell_type": "markdown",
   "metadata": {},
   "source": [
    "## Reference other tasks"
   ]
  },
  {
   "cell_type": "code",
   "execution_count": 6,
   "metadata": {},
   "outputs": [],
   "source": [
    "from pydantic import BaseModel\n",
    "\n",
    "class ResearchFindings(BaseModel):\n",
    "    \"\"\"Structured research report output\"\"\"\n",
    "    title: str\n",
    "    key_findings: list[str]\n",
    "\n",
    "class AnalysisSummary(BaseModel):\n",
    "    \"\"\"Structured summary of research findings\"\"\"\n",
    "    insights: list[str]\n",
    "    key_takeaways: str\n"
   ]
  },
  {
   "cell_type": "code",
   "execution_count": 8,
   "metadata": {},
   "outputs": [],
   "source": [
    "from crewai import Agent, LLM\n",
    "\n",
    "# AI Agents\n",
    "research_agent = Agent(\n",
    "    role=\"AI Researcher\",\n",
    "    goal=\"Find and summarize the latest AI advancements\",\n",
    "    backstory=\"You are an expert AI researcher who stays up to date with the latest innovations.\",\n",
    "    verbose=True,\n",
    ")\n",
    "\n",
    "analysis_agent = Agent(\n",
    "    role=\"AI Analyst\",\n",
    "    goal=\"Analyze AI research findings and extract key insights\",\n",
    "    backstory=\"You are a data analyst who extracts valuable insights from research data.\",\n",
    "    verbose=True,\n",
    ")\n",
    "\n",
    "writer_agent = Agent(\n",
    "    role=\"Tech Writer\",\n",
    "    goal=\"Write a well-structured blog post on AI trends\",\n",
    "    backstory=\"You are a technology writer skilled at transforming complex AI research into readable content.\",\n",
    "    verbose=True,\n",
    ")\n"
   ]
  },
  {
   "cell_type": "code",
   "execution_count": 9,
   "metadata": {},
   "outputs": [],
   "source": [
    "from crewai import Task\n",
    "\n",
    "# Step 1: Research Task\n",
    "research_task = Task(\n",
    "    description=\"Find and summarize the latest AI advancements\",\n",
    "    expected_output=\"A structured list of recent AI breakthroughs\",\n",
    "    agent=research_agent,\n",
    "    output_pydantic=ResearchFindings  # Structured output\n",
    ")\n",
    "\n",
    "# Step 2: Analysis Task (References Research Task Output)\n",
    "analysis_task = Task(\n",
    "    description=\"Analyze AI research findings and extract key insights\",\n",
    "    expected_output=\"A structured summary with key takeaways\",\n",
    "    agent=analysis_agent,\n",
    "    output_pydantic=AnalysisSummary,\n",
    "    context=[research_task]  # Receives output from research_task\n",
    ")\n",
    "\n",
    "# Step 3: Blog Writing Task (References Both Research and Analysis)\n",
    "blog_writing_task = Task(\n",
    "    description=\"Write a detailed blog post about AI trends\",\n",
    "    expected_output=\"A well-structured blog post\",\n",
    "    agent=writer_agent,\n",
    "    context=[research_task, analysis_task]  # Uses both research and analysis outputs\n",
    ")\n"
   ]
  },
  {
   "cell_type": "code",
   "execution_count": null,
   "metadata": {},
   "outputs": [],
   "source": [
    "from crewai import Crew\n",
    "\n",
    "ai_research_crew = Crew(\n",
    "    agents=[research_agent, analysis_agent, writer_agent],\n",
    "    tasks=[research_task, analysis_task, blog_writing_task],\n",
    "    verbose=True\n",
    ")\n",
    "\n",
    "# Execute the workflow\n",
    "result = ai_research_crew.kickoff()\n",
    "\n",
    "# Print the final blog post\n",
    "print(\"\\n=== Generated Blog Post ===\")\n",
    "print(result.raw)\n"
   ]
  },
  {
   "cell_type": "code",
   "execution_count": null,
   "metadata": {},
   "outputs": [],
   "source": [
    "analysis_task.output"
   ]
  },
  {
   "cell_type": "code",
   "execution_count": null,
   "metadata": {},
   "outputs": [],
   "source": [
    "analysis_task.output.pydantic"
   ]
  },
  {
   "cell_type": "markdown",
   "metadata": {},
   "source": [
    "## Async Execution"
   ]
  },
  {
   "cell_type": "code",
   "execution_count": 2,
   "metadata": {},
   "outputs": [],
   "source": [
    "from pydantic import BaseModel\n",
    "\n",
    "class AIResearchFindings(BaseModel):\n",
    "    \"\"\"Represents structured research on AI breakthroughs.\"\"\"\n",
    "    title: str\n",
    "    key_findings: list[str]\n",
    "\n",
    "class AIRegulationFindings(BaseModel):\n",
    "    \"\"\"Represents structured research on AI regulations.\"\"\"\n",
    "    region: str\n",
    "    key_policies: list[str]\n",
    "\n",
    "class FinalAIReport(BaseModel):\n",
    "    \"\"\"Combines AI research & regulation analysis into a report.\"\"\"\n",
    "    executive_summary: str\n",
    "    key_trends: list[str]\n"
   ]
  },
  {
   "cell_type": "code",
   "execution_count": 1,
   "metadata": {},
   "outputs": [],
   "source": [
    "from crewai import Agent\n",
    "\n",
    "# Researcher for AI breakthroughs\n",
    "research_agent = Agent(\n",
    "    role=\"AI Researcher\",\n",
    "    goal=\"Find and summarize the latest AI breakthroughs\",\n",
    "    backstory=\"An expert AI researcher who tracks technological advancements.\",\n",
    "    verbose=True,\n",
    ")\n",
    "\n",
    "# Analyst for AI regulations\n",
    "regulation_agent = Agent(\n",
    "    role=\"AI Policy Analyst\",\n",
    "    goal=\"Analyze global AI regulations and summarize policies\",\n",
    "    backstory=\"A government policy expert specializing in AI ethics and laws.\",\n",
    "    verbose=True,\n",
    ")\n",
    "\n",
    "# Writer for the final AI report\n",
    "writer_agent = Agent(\n",
    "    role=\"AI Report Writer\",\n",
    "    goal=\"Write a structured report combining AI breakthroughs and regulations\",\n",
    "    backstory=\"A professional technical writer who crafts AI research reports.\",\n",
    "    verbose=True,\n",
    ")\n"
   ]
  },
  {
   "cell_type": "code",
   "execution_count": 3,
   "metadata": {},
   "outputs": [],
   "source": [
    "from crewai import Task\n",
    "\n",
    "# Task 1: AI Breakthroughs Research (Asynchronous)\n",
    "research_ai_task = Task(\n",
    "    description=\"Research the latest AI advancements and summarize key breakthroughs.\",\n",
    "    expected_output=\"A structured list of AI breakthroughs.\",\n",
    "    agent=research_agent,\n",
    "    output_pydantic=AIResearchFindings,\n",
    "    async_execution=True  # Runs asynchronously\n",
    ")\n",
    "\n",
    "# Task 2: AI Regulation Analysis (Asynchronous)\n",
    "research_regulation_task = Task(\n",
    "    description=\"Analyze the latest AI regulations worldwide and summarize key policies.\",\n",
    "    expected_output=\"A structured summary of AI regulations by region.\",\n",
    "    agent=regulation_agent,\n",
    "    output_pydantic=AIRegulationFindings,\n",
    "    async_execution=True  # Runs asynchronously\n",
    ")\n",
    "\n",
    "# Task 3: Generate AI Research Report (Depends on the first two tasks)\n",
    "generate_report_task = Task(\n",
    "    description=\"Write a structured report summarizing AI breakthroughs and regulations.\",\n",
    "    expected_output=\"A final AI report summarizing both aspects.\",\n",
    "    agent=writer_agent,\n",
    "    output_pydantic=FinalAIReport,\n",
    "    context=[research_ai_task, research_regulation_task]  # Waits for these tasks to complete\n",
    ")\n"
   ]
  },
  {
   "cell_type": "code",
   "execution_count": null,
   "metadata": {},
   "outputs": [],
   "source": [
    "from crewai import Crew\n",
    "\n",
    "ai_research_crew = Crew(\n",
    "    agents=[research_agent, regulation_agent, writer_agent],\n",
    "    tasks=[research_ai_task, research_regulation_task, generate_report_task],\n",
    "    verbose=True\n",
    ")\n",
    "\n",
    "# Execute the workflow\n",
    "result = ai_research_crew.kickoff()\n",
    "\n",
    "# Print the final AI report\n",
    "print(\"\\n=== Generated AI Report ===\")\n",
    "print(result.raw)"
   ]
  },
  {
   "cell_type": "markdown",
   "metadata": {},
   "source": [
    "## Callbacks"
   ]
  },
  {
   "cell_type": "code",
   "execution_count": 10,
   "metadata": {},
   "outputs": [],
   "source": [
    "from crewai import Agent\n",
    "\n",
    "# AI Researcher Agent\n",
    "research_agent = Agent(\n",
    "    role=\"AI News Researcher\",\n",
    "    goal=\"Find and summarize the latest AI news from trusted sources\",\n",
    "    backstory=\"You are a dedicated AI journalist who follows the latest advancements in artificial intelligence.\",\n",
    "    verbose=False\n",
    ")\n"
   ]
  },
  {
   "cell_type": "code",
   "execution_count": 14,
   "metadata": {},
   "outputs": [],
   "source": [
    "def notify_team(output):\n",
    "\n",
    "    print(f\"\"\"Task Completed!\n",
    "              Task: {output.description}\n",
    "              Output Summary: {output.summary}\"\"\")\n",
    "\n",
    "    with open(\"latest_ai_news.txt\", \"w\") as f:\n",
    "        f.write(f\"Task: {output.description}\\n\")\n",
    "        f.write(f\"Output Summary: {output.summary}\\n\")\n",
    "        f.write(f\"Full Output: {output.raw}\\n\")\n",
    "    \n",
    "    print(\"News summary saved to latest_ai_news.txt\")"
   ]
  },
  {
   "cell_type": "code",
   "execution_count": 15,
   "metadata": {},
   "outputs": [],
   "source": [
    "from crewai import Task\n",
    "\n",
    "research_news_task = Task(\n",
    "    description=\"Find and summarize the latest AI breakthroughs from the last week.\",\n",
    "    expected_output=\"A structured summary of AI news headlines.\",\n",
    "    agent=research_agent,\n",
    "    callback=notify_team  # Calls the function after task completion\n",
    ")\n"
   ]
  },
  {
   "cell_type": "code",
   "execution_count": null,
   "metadata": {},
   "outputs": [],
   "source": [
    "from crewai import Crew\n",
    "\n",
    "ai_news_crew = Crew(\n",
    "    agents=[research_agent],\n",
    "    tasks=[research_news_task],\n",
    "    verbose=False\n",
    ")\n",
    "\n",
    "# Execute the workflow\n",
    "result = ai_news_crew.kickoff()\n"
   ]
  },
  {
   "cell_type": "markdown",
   "metadata": {},
   "source": [
    "## Hierarchical Process"
   ]
  },
  {
   "cell_type": "code",
   "execution_count": 1,
   "metadata": {},
   "outputs": [],
   "source": [
    "from crewai import Agent, LLM\n",
    "\n",
    "llm = LLM(model=\"gpt-4o\")\n",
    "\n",
    "# research a new project idea, do the research on market demand, risk, and potential return on investment.\n",
    "\n",
    "# Define the Manager AI\n",
    "manager_agent = Agent(\n",
    "    role=\"Project Research Manager\",\n",
    "    goal=\"Oversee the project research and ensure timely, high-quality responses.\",\n",
    "    backstory=\"\"\"An experienced project manager responsible\n",
    "                 for ensuring project research.\"\"\",\n",
    "    allow_delegation=True,\n",
    "    verbose=True,\n",
    "    llm=llm\n",
    ")\n",
    "\n",
    "# Define the Technical Support AI\n",
    "market_demand_agent = Agent(\n",
    "    role=\"Market Demand Analyst\",\n",
    "    goal=\"Write market demand content.\",\n",
    "    backstory=\"\"\"A skilled market demand analyst who\n",
    "                 writes market demand content.\"\"\",\n",
    "    allow_delegation=False, \n",
    "    verbose=True,\n",
    "    llm=llm\n",
    ")\n",
    "\n",
    "# Define the Fiction Writer AI\n",
    "risk_analysis_agent = Agent(\n",
    "    role=\"Risk Analysis Analyst\",\n",
    "    goal=\"Write risk analysis content.\",\n",
    "    backstory=\"\"\"A risk analysis analyst who\n",
    "                 writes fiction content.\"\"\",\n",
    "    allow_delegation=False, \n",
    "    verbose=True,\n",
    "    llm=llm\n",
    ")\n",
    "\n",
    "# Define the Fiction Writer AI\n",
    "return_on_investment_agent = Agent(\n",
    "    role=\"Return on Investment Analyst\",\n",
    "    goal=\"Write return on investment content.\",\n",
    "    backstory=\"\"\"A return on investment analyst who\n",
    "                writes return on investment content.\"\"\",\n",
    "    allow_delegation=False, \n",
    "    verbose=True,\n",
    "    llm=llm\n",
    ")\n"
   ]
  },
  {
   "cell_type": "code",
   "execution_count": 2,
   "metadata": {},
   "outputs": [],
   "source": [
    "from crewai import Task\n",
    "\n",
    "manager_task = Task(\n",
    "    description=\"\"\"Oversee the project research on {project_title} and ensure timely, high-quality responses.\"\"\",\n",
    "    expected_output=\"A manager-approved response ready to be sent as an article on {project_title}.\",\n",
    "    agent=manager_agent, \n",
    ")\n",
    "\n",
    "market_demand_task = Task(\n",
    "    description=\"\"\"Analyze the market demand for the project title '{project_title}'\"\"\",\n",
    "    expected_output=\"A categorized project title labeled as 'Technical' or 'Fiction'.\",\n",
    "    agent=market_demand_agent, \n",
    ")\n",
    "\n",
    "risk_analysis_task = Task(\n",
    "    description=\"\"\"Analyze the risk of the project title '{project_title}'\"\"\",\n",
    "    expected_output=\"A categorized project title labeled as 'Technical' or 'Fiction'.\",\n",
    "    agent=risk_analysis_agent, \n",
    ")\n",
    "\n",
    "return_on_investment_task = Task(\n",
    "    description=\"\"\"Analyze the return on investment of the project title '{project_title}'\"\"\",\n",
    "    expected_output=\"A categorized project title labeled as 'Technical' or 'Fiction'.\",\n",
    "    agent=return_on_investment_agent, \n",
    ")\n",
    "\n",
    "final_report_task = Task(\n",
    "    description=\"\"\"Review the final responses from the \n",
    "                   market demand, risk analysis, and return on investment agents\n",
    "                   and create a final report.\"\"\",\n",
    "    expected_output=\"\"\"A comprehensive report on the project title '{project_title}'\n",
    "    containing the market demand, risk analysis, and return on investment.\"\"\",\n",
    "    agent=manager_agent,\n",
    ")"
   ]
  },
  {
   "cell_type": "code",
   "execution_count": null,
   "metadata": {},
   "outputs": [],
   "source": [
    "from crewai import Crew, Process\n",
    "\n",
    "project_research_crew = Crew(\n",
    "    agents=[market_demand_agent, risk_analysis_agent, return_on_investment_agent],\n",
    "    \n",
    "    tasks=[market_demand_task, risk_analysis_task, return_on_investment_task, final_report_task],\n",
    "    \n",
    "    manager_agent=manager_agent,\n",
    "    \n",
    "    process=Process.hierarchical,\n",
    "    \n",
    "    verbose=True,\n",
    ")"
   ]
  },
  {
   "cell_type": "code",
   "execution_count": null,
   "metadata": {},
   "outputs": [],
   "source": [
    "inputs = {\"project_title\": \"Multi-Agent System\"}\n",
    "\n",
    "result = project_research_crew.kickoff(inputs=inputs)"
   ]
  },
  {
   "cell_type": "code",
   "execution_count": null,
   "metadata": {},
   "outputs": [],
   "source": [
    "from IPython.display import Markdown\n",
    "Markdown(result.raw)"
   ]
  },
  {
   "cell_type": "markdown",
   "metadata": {},
   "source": [
    "## Human input"
   ]
  },
  {
   "cell_type": "code",
   "execution_count": 1,
   "metadata": {},
   "outputs": [],
   "source": [
    "from crewai import Agent, LLM\n",
    "\n",
    "llm = LLM(model=\"gpt-4o\")\n",
    "\n",
    "# AI Researcher Agent\n",
    "researcher_agent = Agent(\n",
    "    role=\"Senior AI Researcher\",\n",
    "    goal=\"Discover and summarize the latest trends in AI and technology.\",\n",
    "    backstory=\"An expert in AI research who tracks emerging trends and their real-world applications.\",\n",
    "    verbose=True,\n",
    "    allow_delegation=False,\n",
    "    llm=llm\n",
    ")\n",
    "\n",
    "# AI Content Strategist Agent\n",
    "content_strategist_agent = Agent(\n",
    "    role=\"Tech Content Strategist\",\n",
    "    goal=\"Transform AI research insights into compelling blog content.\",\n",
    "    backstory=\"An experienced tech writer who makes AI advancements accessible to a broad audience.\",\n",
    "    verbose=True,\n",
    "    allow_delegation=True,\n",
    "    llm=llm\n",
    ")"
   ]
  },
  {
   "cell_type": "code",
   "execution_count": 2,
   "metadata": {},
   "outputs": [],
   "source": [
    "from crewai import Task\n",
    "\n",
    "# Step 1: AI Research with Human Oversight\n",
    "ai_research_task = Task(\n",
    "    description=(\n",
    "        \"Conduct a deep analysis of AI trends in 2025. Identify key innovations, breakthroughs, and market shifts. \"\n",
    "        \"Before finalizing, ask a human reviewer for feedback to refine the report.\"\n",
    "    ),\n",
    "    expected_output=\"A structured research summary covering AI advancements in 2025.\",\n",
    "    agent=researcher_agent,\n",
    "    human_input=True  # Requires human validation before finalizing the answer\n",
    ")\n",
    "\n",
    "# Step 2: AI-Generated Blog Post with Human Review\n",
    "blog_post_task = Task(\n",
    "    description=(\n",
    "        \"Using insights from the AI Researcher, create an engaging blog post summarizing key AI advancements. \"\n",
    "        \"Ensure the post is informative and accessible. Before finalizing, ask a human reviewer for approval.\"\n",
    "    ),\n",
    "    expected_output=\"A well-structured blog post about AI trends in 2025.\",\n",
    "    agent=content_strategist_agent,\n",
    "    human_input=True  # Requires human approval before publishing\n",
    ")"
   ]
  },
  {
   "cell_type": "code",
   "execution_count": null,
   "metadata": {},
   "outputs": [],
   "source": [
    "from crewai import Crew\n",
    "\n",
    "ai_research_crew = Crew(\n",
    "    agents=[researcher_agent, content_strategist_agent],  \n",
    "    tasks=[ai_research_task, blog_post_task],  \n",
    "    verbose=True,  \n",
    ")\n"
   ]
  },
  {
   "cell_type": "code",
   "execution_count": null,
   "metadata": {},
   "outputs": [],
   "source": [
    "# Execute the workflow\n",
    "result = ai_research_crew.kickoff()\n",
    "\n",
    "# Display the final validated research output\n",
    "print(\"\\n=== Final AI Research Report ===\")\n",
    "print(result.raw)\n"
   ]
  },
  {
   "cell_type": "code",
   "execution_count": null,
   "metadata": {},
   "outputs": [],
   "source": [
    "from IPython.display import Markdown\n",
    "Markdown(result.raw)"
   ]
  },
  {
   "cell_type": "markdown",
   "metadata": {},
   "source": [
    "## Multimodal Agents"
   ]
  },
  {
   "cell_type": "code",
   "execution_count": 12,
   "metadata": {},
   "outputs": [],
   "source": [
    "from crewai import Agent, LLM\n",
    "\n",
    "llm = LLM(model=\"gpt-4o\")\n",
    "\n",
    "# Define a Multimodal Agent for Product Quality Inspection\n",
    "quality_inspector = Agent(\n",
    "    role=\"Product Quality Inspector\",\n",
    "    goal=\"Analyze and assess the quality of product images\",\n",
    "    backstory=\"An experienced manufacturing quality control expert who specializes in detecting defects and ensuring compliance.\",\n",
    "    multimodal=True,  # Enables multimodal capabilities\n",
    "    verbose=True,\n",
    "    llm=llm\n",
    ")"
   ]
  },
  {
   "cell_type": "code",
   "execution_count": 13,
   "metadata": {},
   "outputs": [],
   "source": [
    "from crewai import Task\n",
    "\n",
    "# Define a Task for Product Image Inspection\n",
    "inspection_task = Task(\n",
    "    description=\"\"\"\n",
    "    Inspect the product image at {image_url}.\n",
    "    Identify any visible defects such as scratches, dents, misalignment, or color inconsistencies.\n",
    "    Provide a structured quality assessment report.\n",
    "    \"\"\",\n",
    "    expected_output=\"A detailed report highlighting detected issues and overall quality score.\",\n",
    "    agent=quality_inspector\n",
    ")\n"
   ]
  },
  {
   "cell_type": "code",
   "execution_count": null,
   "metadata": {},
   "outputs": [],
   "source": [
    "from crewai import Crew\n",
    "\n",
    "# Create a Crew with the Multimodal Agent\n",
    "quality_inspection_crew = Crew(\n",
    "    agents=[quality_inspector],  # Single agent for inspection\n",
    "    tasks=[inspection_task],  # Task to analyze product images\n",
    "    verbose=True\n",
    ")\n",
    "\n",
    "image_url = \"https://s.marketwatch.com/public/resources/images/MW-HT101_nerd_d_ZG_20191010165334.jpg\"\n",
    "# Run the workflow\n",
    "result = quality_inspection_crew.kickoff(inputs={\"image_url\": image_url})\n",
    "\n",
    "# Display the final inspection report\n",
    "print(\"\\n=== Final Product Quality Report ===\")\n",
    "print(result.raw)"
   ]
  },
  {
   "cell_type": "code",
   "execution_count": null,
   "metadata": {},
   "outputs": [],
   "source": [
    "from IPython.display import Markdown\n",
    "Markdown(result.raw)"
   ]
  },
  {
   "cell_type": "code",
   "execution_count": null,
   "metadata": {},
   "outputs": [],
   "source": []
  }
 ],
 "metadata": {
  "kernelspec": {
   "display_name": "base",
   "language": "python",
   "name": "python3"
  },
  "language_info": {
   "codemirror_mode": {
    "name": "ipython",
    "version": 3
   },
   "file_extension": ".py",
   "mimetype": "text/x-python",
   "name": "python",
   "nbconvert_exporter": "python",
   "pygments_lexer": "ipython3",
   "version": "3.12.2"
  }
 },
 "nbformat": 4,
 "nbformat_minor": 2
}
